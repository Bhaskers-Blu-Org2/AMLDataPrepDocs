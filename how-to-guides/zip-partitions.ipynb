{
 "cells": [
  {
   "cell_type": "markdown",
   "metadata": {},
   "source": [
    "# Zip Partitions"
   ]
  },
  {
   "cell_type": "markdown",
   "metadata": {},
   "source": [
    "`zip_partitions` produces the same result as the `append_columns` operation but runs faster by assuming the Dataflows come from the same source and hence, have the same partitioning and number of records. When two or more DataPrep Dataflows are combined with `append_columns`, the data processing engine makes no assumptions about the partitioning of the input flows and hence will read all data in each flow and repartition the result. When you have split a dataflow by column and then need to recombine, this leads to performance issues that are not necessary. \n",
    "\n",
    "The `zip_partitions` operation assumes all Dataflows are combined to have the same number of partitions and the same number of records in each partition. If the input Dataflows do not have aligned partitions and partition row counts the operation will fail completely"
   ]
  },
  {
   "cell_type": "code",
   "execution_count": null,
   "metadata": {},
   "outputs": [],
   "source": [
    "import azureml.dataprep as dprep\n",
    "\n",
    "dflow_a = dprep.auto_read_file('../data/crime-winter.csv')\n",
    "dflow_b = dprep.auto_read_file('../data/crime-winter-dup.csv')"
   ]
  },
  {
   "cell_type": "code",
   "execution_count": null,
   "metadata": {},
   "outputs": [],
   "source": [
    "df_a = dflow_a.to_pandas_dataframe()\n",
    "df_a"
   ]
  },
  {
   "cell_type": "code",
   "execution_count": null,
   "metadata": {},
   "outputs": [],
   "source": [
    "df_b = dflow_b.to_pandas_dataframe()\n",
    "df_b"
   ]
  },
  {
   "cell_type": "code",
   "execution_count": null,
   "metadata": {},
   "outputs": [],
   "source": [
    "zipped_dflow = dflow_a.zip_partitions([dflow_b])\n",
    "zipped_df = zipped_dflow.to_pandas_dataframe()\n",
    "zipped_df"
   ]
  },
  {
   "cell_type": "code",
   "execution_count": null,
   "metadata": {},
   "outputs": [],
   "source": [
    "dflow_c = dprep.auto_read_file('../data/crime-winter-dup2.csv')\n",
    "df_c = dflow_c.to_pandas_dataframe()\n",
    "df_c"
   ]
  },
  {
   "cell_type": "code",
   "execution_count": null,
   "metadata": {},
   "outputs": [],
   "source": [
    "zipped_dflow = dflow_a.zip_partitions([dflow_b, dflow_c])\n",
    "zipped_df = zipped_dflow.to_pandas_dataframe()\n",
    "zipped_df"
   ]
  }
 ],
 "metadata": {
  "kernelspec": {
   "display_name": "Python 3.6",
   "language": "python",
   "name": "python36"
  },
  "language_info": {
   "codemirror_mode": {
    "name": "ipython",
    "version": 3
   },
   "file_extension": ".py",
   "mimetype": "text/x-python",
   "name": "python",
   "nbconvert_exporter": "python",
   "pygments_lexer": "ipython3",
   "version": "3.6.4"
  }
 },
 "nbformat": 4,
 "nbformat_minor": 4
}
